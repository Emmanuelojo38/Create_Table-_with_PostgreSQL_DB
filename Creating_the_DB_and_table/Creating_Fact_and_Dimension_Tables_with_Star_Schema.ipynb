{
 "cells": [
  {
   "attachments": {},
   "cell_type": "markdown",
   "metadata": {},
   "source": [
    "Creating Fact and Dimension Tables with Star Schema\n",
    "\n",
    "Walk through the basics of modeling data using Fact and Dimension tables. We will create both Fact and Dimension tables and show how this is a basic element of the Star Schema."
   ]
  },
  {
   "attachments": {},
   "cell_type": "markdown",
   "metadata": {},
   "source": [
    "This exercise will be more challenging than the last. Use the information provided to create the tables and write the insert statements."
   ]
  },
  {
   "cell_type": "code",
   "execution_count": 12,
   "metadata": {},
   "outputs": [],
   "source": [
    "#Import the library\n",
    "import psycopg2"
   ]
  },
  {
   "cell_type": "code",
   "execution_count": 13,
   "metadata": {},
   "outputs": [],
   "source": [
    "#Create a connection to the database\n",
    "\n",
    "try: \n",
    "    conn = psycopg2.connect(\"host=127.0.0.1 dbname=myfirstdb user=postgres password=Lanremj06\")\n",
    "except psycopg2.Error as e: \n",
    "    print(\"Error: Could not make connection to the Postgres database\")\n",
    "    print(e)\n",
    "\n",
    "#Next use that connect to get a cursor that we will use to execute queries.\n",
    "try: \n",
    "    cur = conn.cursor()\n",
    "except psycopg2.Error as e: \n",
    "    print(\"Error: Could not get cursor to the Database\")\n",
    "    print(e)"
   ]
  },
  {
   "attachments": {},
   "cell_type": "markdown",
   "metadata": {},
   "source": [
    "We will use automactic commit so that each action is commited without having to call conn.commit() after each command. The ability to rollback and commit transactions is a feature of Relational Databases."
   ]
  },
  {
   "cell_type": "code",
   "execution_count": 14,
   "metadata": {},
   "outputs": [],
   "source": [
    "conn.set_session(autocommit=True)"
   ]
  },
  {
   "attachments": {},
   "cell_type": "markdown",
   "metadata": {},
   "source": [
    "Imagine We work at an online Music Store. There will be many tables in our database, but let's just focus on 4 tables around customer purchases.\n",
    "\n",
    "From these 4 tables we can make a \"STAR\" schema. We will have one fact table (the center of the star) and 3 dimension tables that are coming from it."
   ]
  },
  {
   "cell_type": "code",
   "execution_count": 15,
   "metadata": {},
   "outputs": [],
   "source": [
    "#Create the Fact table and insert the data into the table\n",
    "\n",
    "try:\n",
    "    cur.execute('''CREATE TABLE customer_transactions (customer_id int, store_id int, amount_spent float)''')\n",
    "except psycopg2.Error as e:\n",
    "    print(\"Error: Issue creating table\")\n",
    "    print(e)\n",
    "\n",
    "#Insert into all tables\n",
    "try:\n",
    "    cur.execute('''INSERT INTO customer_transactions (customer_id, store_id, amount_spent) \\\n",
    "                VALUES (%s, %s, %s)''', (1, 1, 20.5))\n",
    "except psycopg2.Error as e:\n",
    "    print(\"Error: Inserting Rows\")\n",
    "    print(e)\n",
    "\n",
    "try:\n",
    "    cur.execute('''INSERT INTO customer_transactions (customer_id, store_id, amount_spent) \\\n",
    "                VALUES (%s, %s, %s)''', (2, 1, 35.21))\n",
    "except psycopg2.Error as e:\n",
    "    print(\"Error: Inserting Rows\")\n",
    "    print(e)"
   ]
  },
  {
   "cell_type": "code",
   "execution_count": 16,
   "metadata": {},
   "outputs": [],
   "source": [
    "#Create the Dimension tables and insert data into those tables\n",
    "#Customer table\n",
    "\n",
    "try:\n",
    "    cur.execute('''\n",
    "        CREATE TABLE customer\n",
    "        (customer_id int, name varchar, rewards varchar)\n",
    "        ''')\n",
    "except psycopg2.Error as e:\n",
    "    print(\"Error: Issue creating table\")\n",
    "    print(e)\n",
    "\n",
    "\n",
    "try:\n",
    "    cur.execute('''\n",
    "        INSERT INTO customer\n",
    "            (customer_id, name, rewards)\n",
    "            VALUES (%s, %s, %s)''', (1, \"Amanda\", \"Y\"))\n",
    "except psycopg2.Error as e:\n",
    "    print(\"Error: Inserting Rows\")\n",
    "    print(e)\n",
    "\n",
    "try:\n",
    "    cur.execute('''\n",
    "        INSERT INTO customer\n",
    "            (customer_id, name, rewards)\n",
    "            VALUES (%s, %s, %s)''', (2, \"Toby\", \"N\"))\n",
    "except psycopg2.Error as e:\n",
    "    print(\"Error: Inserting Rows\")\n",
    "    print(e)"
   ]
  },
  {
   "cell_type": "code",
   "execution_count": 17,
   "metadata": {},
   "outputs": [],
   "source": [
    "#Items_purchased table\n",
    "\n",
    "try:\n",
    "    cur.execute('''\n",
    "        CREATE TABLE items_purchased\n",
    "            (customer_id int, item_number int, item_name varchar)\n",
    "            ''')\n",
    "except psycopg2.Error as e:\n",
    "    print(\"Error: Issue creating table\")\n",
    "    print(e)\n",
    "\n",
    "try:\n",
    "    cur.execute('''\n",
    "        INSERT INTO items_purchased\n",
    "            (customer_id, item_number, item_name)\n",
    "            VALUES (%s, %s, %s)\n",
    "            ''', (1, 1, 'Rubber Soul'))\n",
    "except psycopg2.Error as e:\n",
    "    print(\"Error: Inserting Rows\")\n",
    "    print(e)\n",
    "\n",
    "try:\n",
    "    cur.execute('''\n",
    "        INSERT INTO items_purchased\n",
    "            (customer_id, item_number, item_name)\n",
    "            VALUES (%s, %s, %s)\n",
    "            ''', (2, 3, 'Let It Be'))\n",
    "except psycopg2.Error as e:\n",
    "    print(\"Error: Inserting Rows\")\n",
    "    print(e)"
   ]
  },
  {
   "cell_type": "code",
   "execution_count": 18,
   "metadata": {},
   "outputs": [],
   "source": [
    "#Store table\n",
    "\n",
    "try:\n",
    "    cur.execute('''\n",
    "        CREATE TABLE store (store_id int, state varchar)\n",
    "        ''')\n",
    "except psycopg2.Error as e:\n",
    "    print(\"Error: Issue creating table\")\n",
    "    print(e)\n",
    "\n",
    "try:\n",
    "    cur.execute('''\n",
    "        INSERT INTO store (store_id, state)\n",
    "            VALUES (%s, %s)\n",
    "            ''', (1, \"CA\"))\n",
    "except psycopg2.Error as e:\n",
    "    print(\"Error: Inserting Rows\")\n",
    "    print(e)\n",
    "\n",
    "try:\n",
    "    cur.execute('''\n",
    "        INSERT INTO store (store_id, state)\n",
    "            VALUES (%s, %s)\n",
    "            ''', (2, \"WA\"))\n",
    "except psycopg2.Error as e:\n",
    "    print(\"Error: Inserting Rows\")\n",
    "    print(e)"
   ]
  },
  {
   "attachments": {},
   "cell_type": "markdown",
   "metadata": {},
   "source": [
    "Now we run the following queries on this data easily because of utilizing the Fact/ Dimension and Star Schema:\n",
    "\n",
    "\n",
    "Query 1: Find all the customers that spent more than 30 dollars, who are they, which store they bought it from, location of the store, what they bought and if they are a rewards member.\n",
    "\n",
    "Query 2: How much did Customer 2 spend?"
   ]
  },
  {
   "cell_type": "code",
   "execution_count": 19,
   "metadata": {},
   "outputs": [
    {
     "name": "stdout",
     "output_type": "stream",
     "text": [
      "('Toby', 1, 'CA', 'Let It Be', 'N')\n"
     ]
    }
   ],
   "source": [
    "#Query 1:\n",
    "\n",
    "try:\n",
    "    cur.execute('''\n",
    "        SELECT customer.name, store.store_id, store.state, items_purchased.item_name, customer.rewards\n",
    "        FROM customer_transactions\n",
    "        JOIN customer ON customer_transactions.customer_id = customer.customer_id\n",
    "        JOIN store ON customer_transactions.store_id = store.store_id\n",
    "        JOIN items_purchased ON customer_transactions.customer_id = items_purchased.customer_id\n",
    "        WHERE customer_transactions.amount_spent > 30\n",
    "        ''')\n",
    "except psycopg2.Error as e:\n",
    "    print(\"Error: select *\")\n",
    "    print(e)\n",
    "\n",
    "row = cur.fetchone()\n",
    "while row:\n",
    "    print(row)\n",
    "    row = cur.fetchone()"
   ]
  },
  {
   "cell_type": "code",
   "execution_count": 20,
   "metadata": {},
   "outputs": [
    {
     "name": "stdout",
     "output_type": "stream",
     "text": [
      "(2, 35.21)\n"
     ]
    }
   ],
   "source": [
    "#Query 2:\n",
    "\n",
    "try:\n",
    "    cur.execute('''\n",
    "        SELECT customer_id, SUM(amount_spent)\n",
    "        FROM customer_transactions\n",
    "        WHERE customer_id = 2\n",
    "        GROUP BY customer_id\n",
    "        ''')\n",
    "except psycopg2.Error as e:\n",
    "    print(\"Error: select*\")\n",
    "    print(e)\n",
    "\n",
    "row = cur.fetchone()\n",
    "while row:\n",
    "    print(row)\n",
    "    row = cur.fetchone()"
   ]
  },
  {
   "attachments": {},
   "cell_type": "markdown",
   "metadata": {},
   "source": [
    "Summary\n",
    "\n",
    "We can see here from this elegant schema that we were:\n",
    "1) able to get \"facts/metrics\" from our fact table (how much each store sold)\n",
    "2) information about our customers that will allow us to do more indepth analytics to get answers to business questions by utilizing our fact and dimension tables."
   ]
  },
  {
   "cell_type": "code",
   "execution_count": 21,
   "metadata": {},
   "outputs": [],
   "source": [
    "#Drop the tables\n",
    "try: \n",
    "    cur.execute(\"DROP TABLE customer_transactions\")\n",
    "    cur.execute(\"DROP TABLE customer\")\n",
    "    cur.execute(\"DROP TABLE store\")\n",
    "    cur.execute(\"DROP TABLE items_purchased\")\n",
    "except psycopg2.Error as e: \n",
    "    print(\"Error: Dropping table\")\n",
    "    print (e)"
   ]
  },
  {
   "cell_type": "code",
   "execution_count": 22,
   "metadata": {},
   "outputs": [],
   "source": [
    "#Close cursor and connection\n",
    "cur.close()\n",
    "conn.close()"
   ]
  }
 ],
 "metadata": {
  "kernelspec": {
   "display_name": "Python 3",
   "language": "python",
   "name": "python3"
  },
  "language_info": {
   "codemirror_mode": {
    "name": "ipython",
    "version": 3
   },
   "file_extension": ".py",
   "mimetype": "text/x-python",
   "name": "python",
   "nbconvert_exporter": "python",
   "pygments_lexer": "ipython3",
   "version": "3.10.8"
  },
  "orig_nbformat": 4
 },
 "nbformat": 4,
 "nbformat_minor": 2
}
